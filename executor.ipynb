{
 "cells": [
  {
   "cell_type": "code",
   "execution_count": 1,
   "metadata": {},
   "outputs": [],
   "source": [
    "import exec\n"
   ]
  },
  {
   "cell_type": "code",
   "execution_count": 2,
   "metadata": {},
   "outputs": [],
   "source": [
    "RapG = exec.RapGenius(folder_path = \"C:/Users/remil/Desktop/M2/Python/Projet/RapGenius/html\")"
   ]
  },
  {
   "cell_type": "code",
   "execution_count": 3,
   "metadata": {},
   "outputs": [
    {
     "data": {
      "text/html": [
       "<div>\n",
       "<style scoped>\n",
       "    .dataframe tbody tr th:only-of-type {\n",
       "        vertical-align: middle;\n",
       "    }\n",
       "\n",
       "    .dataframe tbody tr th {\n",
       "        vertical-align: top;\n",
       "    }\n",
       "\n",
       "    .dataframe thead th {\n",
       "        text-align: right;\n",
       "    }\n",
       "</style>\n",
       "<table border=\"1\" class=\"dataframe\">\n",
       "  <thead>\n",
       "    <tr style=\"text-align: right;\">\n",
       "      <th></th>\n",
       "      <th>artist</th>\n",
       "      <th>title</th>\n",
       "      <th>lyrics</th>\n",
       "    </tr>\n",
       "  </thead>\n",
       "  <tbody>\n",
       "    <tr>\n",
       "      <th>1</th>\n",
       "      <td>\\n        BB Brunes\\n</td>\n",
       "      <td>\\n         (D)andy\\n</td>\n",
       "      <td>\\n         Oh Andy, tu vois tout se barre, tu ...</td>\n",
       "    </tr>\n",
       "    <tr>\n",
       "      <th>2</th>\n",
       "      <td>\\n        BB Brunes\\n</td>\n",
       "      <td>\\n         1/4 d’heure\\n</td>\n",
       "      <td>\\n         [Couplet 1]\\n         \\n         Je...</td>\n",
       "    </tr>\n",
       "    <tr>\n",
       "      <th>3</th>\n",
       "      <td>\\n        BB Brunes\\n</td>\n",
       "      <td>\\n         Adieu\\n</td>\n",
       "      <td>\\n         [Couplet 1]\\n         \\n         Ad...</td>\n",
       "    </tr>\n",
       "    <tr>\n",
       "      <th>4</th>\n",
       "      <td>\\n        BB Brunes\\n</td>\n",
       "      <td>\\n         Aficionado\\n</td>\n",
       "      <td>\\n         [Couplet 1]\\n         \\n         J'...</td>\n",
       "    </tr>\n",
       "    <tr>\n",
       "      <th>5</th>\n",
       "      <td>\\n        BB Brunes\\n</td>\n",
       "      <td>\\n         Au garde à vous\\n</td>\n",
       "      <td>\\n         [Couplet 1]\\n         \\n         Au...</td>\n",
       "    </tr>\n",
       "    <tr>\n",
       "      <th>...</th>\n",
       "      <td>...</td>\n",
       "      <td>...</td>\n",
       "      <td>...</td>\n",
       "    </tr>\n",
       "    <tr>\n",
       "      <th>1159</th>\n",
       "      <td>\\n        Téléphone\\n</td>\n",
       "      <td>\\n         Tu vas me manquer\\n</td>\n",
       "      <td>\\n         Hélène, réveille toi, je dois m'en ...</td>\n",
       "    </tr>\n",
       "    <tr>\n",
       "      <th>1160</th>\n",
       "      <td>\\n        Téléphone\\n</td>\n",
       "      <td>\\n         Un autre monde\\n</td>\n",
       "      <td>\\n\\n\\n           Je rêvais d'un autre monde\\n ...</td>\n",
       "    </tr>\n",
       "    <tr>\n",
       "      <th>1161</th>\n",
       "      <td>\\n        Téléphone\\n</td>\n",
       "      <td>\\n         Un homme + un homme\\n</td>\n",
       "      <td>\\n         Un homme + un homme + un homme + un...</td>\n",
       "    </tr>\n",
       "    <tr>\n",
       "      <th>1162</th>\n",
       "      <td>\\n        Téléphone\\n</td>\n",
       "      <td>\\n         Un Peu De Ton Amour\\n</td>\n",
       "      <td>\\n         Même si tu ne parles pas\\n         ...</td>\n",
       "    </tr>\n",
       "    <tr>\n",
       "      <th>1163</th>\n",
       "      <td>\\n        Téléphone\\n</td>\n",
       "      <td>\\n         Ça (C’est Vraiment Toi)\\n</td>\n",
       "      <td>\\n         Quelque chose en toi\\n         \\n  ...</td>\n",
       "    </tr>\n",
       "  </tbody>\n",
       "</table>\n",
       "<p>1161 rows × 3 columns</p>\n",
       "</div>"
      ],
      "text/plain": [
       "                            artist  \\\n",
       "1     \\n        BB Brunes\\n          \n",
       "2     \\n        BB Brunes\\n          \n",
       "3     \\n        BB Brunes\\n          \n",
       "4     \\n        BB Brunes\\n          \n",
       "5     \\n        BB Brunes\\n          \n",
       "...                            ...   \n",
       "1159  \\n        Téléphone\\n          \n",
       "1160  \\n        Téléphone\\n          \n",
       "1161  \\n        Téléphone\\n          \n",
       "1162  \\n        Téléphone\\n          \n",
       "1163  \\n        Téléphone\\n          \n",
       "\n",
       "                                             title  \\\n",
       "1                     \\n         (D)andy\\n           \n",
       "2                 \\n         1/4 d’heure\\n           \n",
       "3                       \\n         Adieu\\n           \n",
       "4                  \\n         Aficionado\\n           \n",
       "5             \\n         Au garde à vous\\n           \n",
       "...                                            ...   \n",
       "1159        \\n         Tu vas me manquer\\n           \n",
       "1160           \\n         Un autre monde\\n           \n",
       "1161      \\n         Un homme + un homme\\n           \n",
       "1162      \\n         Un Peu De Ton Amour\\n           \n",
       "1163  \\n         Ça (C’est Vraiment Toi)\\n           \n",
       "\n",
       "                                                 lyrics  \n",
       "1     \\n         Oh Andy, tu vois tout se barre, tu ...  \n",
       "2     \\n         [Couplet 1]\\n         \\n         Je...  \n",
       "3     \\n         [Couplet 1]\\n         \\n         Ad...  \n",
       "4     \\n         [Couplet 1]\\n         \\n         J'...  \n",
       "5     \\n         [Couplet 1]\\n         \\n         Au...  \n",
       "...                                                 ...  \n",
       "1159  \\n         Hélène, réveille toi, je dois m'en ...  \n",
       "1160  \\n\\n\\n           Je rêvais d'un autre monde\\n ...  \n",
       "1161  \\n         Un homme + un homme + un homme + un...  \n",
       "1162  \\n         Même si tu ne parles pas\\n         ...  \n",
       "1163  \\n         Quelque chose en toi\\n         \\n  ...  \n",
       "\n",
       "[1161 rows x 3 columns]"
      ]
     },
     "execution_count": 3,
     "metadata": {},
     "output_type": "execute_result"
    }
   ],
   "source": [
    "RapG.df"
   ]
  },
  {
   "cell_type": "code",
   "execution_count": 4,
   "metadata": {},
   "outputs": [
    {
     "data": {
      "text/html": [
       "<div>\n",
       "<style scoped>\n",
       "    .dataframe tbody tr th:only-of-type {\n",
       "        vertical-align: middle;\n",
       "    }\n",
       "\n",
       "    .dataframe tbody tr th {\n",
       "        vertical-align: top;\n",
       "    }\n",
       "\n",
       "    .dataframe thead th {\n",
       "        text-align: right;\n",
       "    }\n",
       "</style>\n",
       "<table border=\"1\" class=\"dataframe\">\n",
       "  <thead>\n",
       "    <tr style=\"text-align: right;\">\n",
       "      <th></th>\n",
       "      <th>artist</th>\n",
       "      <th>title</th>\n",
       "      <th>lyrics</th>\n",
       "      <th>lyrics_clean</th>\n",
       "      <th>genre</th>\n",
       "    </tr>\n",
       "  </thead>\n",
       "  <tbody>\n",
       "    <tr>\n",
       "      <th>0</th>\n",
       "      <td>BB Brunes</td>\n",
       "      <td>(D)andy</td>\n",
       "      <td>Oh Andy tu vois tout se barre tu ne l as pas ...</td>\n",
       "      <td>[andy, vois, barr, vol, dir, grand, jam, andy,...</td>\n",
       "      <td>rock</td>\n",
       "    </tr>\n",
       "    <tr>\n",
       "      <th>1</th>\n",
       "      <td>BB Brunes</td>\n",
       "      <td>1/4 d’heure</td>\n",
       "      <td>Je guette tes pas Je suis amoureux Ou fou de ...</td>\n",
       "      <td>[guet, amour, fou, deux, veux, oser, approch, ...</td>\n",
       "      <td>rock</td>\n",
       "    </tr>\n",
       "    <tr>\n",
       "      <th>2</th>\n",
       "      <td>BB Brunes</td>\n",
       "      <td>Adieu</td>\n",
       "      <td>Adieu au Dieu aux tambours Vous lancinant com...</td>\n",
       "      <td>[adieu, dieu, tambour, lancin, compt, rebour, ...</td>\n",
       "      <td>rock</td>\n",
       "    </tr>\n",
       "    <tr>\n",
       "      <th>3</th>\n",
       "      <td>BB Brunes</td>\n",
       "      <td>Aficionado</td>\n",
       "      <td>J aime tes cheveux qui volent Sous l acropole...</td>\n",
       "      <td>[aim, cheveux, volent, acropol, vent, souffl, ...</td>\n",
       "      <td>rock</td>\n",
       "    </tr>\n",
       "    <tr>\n",
       "      <th>4</th>\n",
       "      <td>BB Brunes</td>\n",
       "      <td>Au garde à vous</td>\n",
       "      <td>Au garde à vous Au général dévoués nous somme...</td>\n",
       "      <td>[gard, général, dévou, genoux, cern, somm, com...</td>\n",
       "      <td>rock</td>\n",
       "    </tr>\n",
       "    <tr>\n",
       "      <th>...</th>\n",
       "      <td>...</td>\n",
       "      <td>...</td>\n",
       "      <td>...</td>\n",
       "      <td>...</td>\n",
       "      <td>...</td>\n",
       "    </tr>\n",
       "    <tr>\n",
       "      <th>1120</th>\n",
       "      <td>Téléphone</td>\n",
       "      <td>Tu vas me manquer</td>\n",
       "      <td>Hélène réveille toi je dois m en aller L auto...</td>\n",
       "      <td>[hélen, réveil, dois, aller, autorout, emmen, ...</td>\n",
       "      <td>rock</td>\n",
       "    </tr>\n",
       "    <tr>\n",
       "      <th>1121</th>\n",
       "      <td>Téléphone</td>\n",
       "      <td>Un autre monde</td>\n",
       "      <td>Je rêvais d un autre monde Où la Terre serait...</td>\n",
       "      <td>[rêv, autr, mond, terr, rond, lun, blond, vi, ...</td>\n",
       "      <td>rock</td>\n",
       "    </tr>\n",
       "    <tr>\n",
       "      <th>1122</th>\n",
       "      <td>Téléphone</td>\n",
       "      <td>Un homme + un homme</td>\n",
       "      <td>Un homme un homme un homme un homme Attendent...</td>\n",
       "      <td>[homm, homm, homm, homm, attendent, homm, homm...</td>\n",
       "      <td>rock</td>\n",
       "    </tr>\n",
       "    <tr>\n",
       "      <th>1123</th>\n",
       "      <td>Téléphone</td>\n",
       "      <td>Un Peu De Ton Amour</td>\n",
       "      <td>Même si tu ne parles pas Et que je ne parles ...</td>\n",
       "      <td>[parl, parl, aim, silenc, sen, don, peu, amour...</td>\n",
       "      <td>rock</td>\n",
       "    </tr>\n",
       "    <tr>\n",
       "      <th>1124</th>\n",
       "      <td>Téléphone</td>\n",
       "      <td>Ça (C’est Vraiment Toi)</td>\n",
       "      <td>Quelque chose en toi Ne tourne pas rond Un je...</td>\n",
       "      <td>[quelqu, chos, tourn, rond, sais, quoi, laiss,...</td>\n",
       "      <td>rock</td>\n",
       "    </tr>\n",
       "  </tbody>\n",
       "</table>\n",
       "<p>1125 rows × 5 columns</p>\n",
       "</div>"
      ],
      "text/plain": [
       "         artist                    title  \\\n",
       "0     BB Brunes                  (D)andy   \n",
       "1     BB Brunes              1/4 d’heure   \n",
       "2     BB Brunes                    Adieu   \n",
       "3     BB Brunes               Aficionado   \n",
       "4     BB Brunes          Au garde à vous   \n",
       "...         ...                      ...   \n",
       "1120  Téléphone        Tu vas me manquer   \n",
       "1121  Téléphone           Un autre monde   \n",
       "1122  Téléphone      Un homme + un homme   \n",
       "1123  Téléphone      Un Peu De Ton Amour   \n",
       "1124  Téléphone  Ça (C’est Vraiment Toi)   \n",
       "\n",
       "                                                 lyrics  \\\n",
       "0      Oh Andy tu vois tout se barre tu ne l as pas ...   \n",
       "1      Je guette tes pas Je suis amoureux Ou fou de ...   \n",
       "2      Adieu au Dieu aux tambours Vous lancinant com...   \n",
       "3      J aime tes cheveux qui volent Sous l acropole...   \n",
       "4      Au garde à vous Au général dévoués nous somme...   \n",
       "...                                                 ...   \n",
       "1120   Hélène réveille toi je dois m en aller L auto...   \n",
       "1121   Je rêvais d un autre monde Où la Terre serait...   \n",
       "1122   Un homme un homme un homme un homme Attendent...   \n",
       "1123   Même si tu ne parles pas Et que je ne parles ...   \n",
       "1124   Quelque chose en toi Ne tourne pas rond Un je...   \n",
       "\n",
       "                                           lyrics_clean genre  \n",
       "0     [andy, vois, barr, vol, dir, grand, jam, andy,...  rock  \n",
       "1     [guet, amour, fou, deux, veux, oser, approch, ...  rock  \n",
       "2     [adieu, dieu, tambour, lancin, compt, rebour, ...  rock  \n",
       "3     [aim, cheveux, volent, acropol, vent, souffl, ...  rock  \n",
       "4     [gard, général, dévou, genoux, cern, somm, com...  rock  \n",
       "...                                                 ...   ...  \n",
       "1120  [hélen, réveil, dois, aller, autorout, emmen, ...  rock  \n",
       "1121  [rêv, autr, mond, terr, rond, lun, blond, vi, ...  rock  \n",
       "1122  [homm, homm, homm, homm, attendent, homm, homm...  rock  \n",
       "1123  [parl, parl, aim, silenc, sen, don, peu, amour...  rock  \n",
       "1124  [quelqu, chos, tourn, rond, sais, quoi, laiss,...  rock  \n",
       "\n",
       "[1125 rows x 5 columns]"
      ]
     },
     "execution_count": 4,
     "metadata": {},
     "output_type": "execute_result"
    }
   ],
   "source": [
    "RapG.cleaning_df()\n"
   ]
  },
  {
   "cell_type": "code",
   "execution_count": 5,
   "metadata": {},
   "outputs": [
    {
     "data": {
      "text/html": [
       "<pre style=\"white-space:pre;overflow-x:auto;line-height:normal;font-family:Menlo,'DejaVu Sans Mono',consolas,'Courier New',monospace\">LogisticRegression Done\n",
       "</pre>\n"
      ],
      "text/plain": [
       "LogisticRegression Done\n"
      ]
     },
     "metadata": {},
     "output_type": "display_data"
    },
    {
     "data": {
      "text/html": [
       "<pre style=\"white-space:pre;overflow-x:auto;line-height:normal;font-family:Menlo,'DejaVu Sans Mono',consolas,'Courier New',monospace\">KNeighborsClassifier Done\n",
       "</pre>\n"
      ],
      "text/plain": [
       "KNeighborsClassifier Done\n"
      ]
     },
     "metadata": {},
     "output_type": "display_data"
    },
    {
     "data": {
      "text/html": [
       "<pre style=\"white-space:pre;overflow-x:auto;line-height:normal;font-family:Menlo,'DejaVu Sans Mono',consolas,'Courier New',monospace\">GaussianNB Done\n",
       "</pre>\n"
      ],
      "text/plain": [
       "GaussianNB Done\n"
      ]
     },
     "metadata": {},
     "output_type": "display_data"
    },
    {
     "data": {
      "text/html": [
       "<pre style=\"white-space:pre;overflow-x:auto;line-height:normal;font-family:Menlo,'DejaVu Sans Mono',consolas,'Courier New',monospace\">DecisionTreeClassifier Done\n",
       "</pre>\n"
      ],
      "text/plain": [
       "DecisionTreeClassifier Done\n"
      ]
     },
     "metadata": {},
     "output_type": "display_data"
    },
    {
     "data": {
      "text/html": [
       "<pre style=\"white-space:pre;overflow-x:auto;line-height:normal;font-family:Menlo,'DejaVu Sans Mono',consolas,'Courier New',monospace\">RandomForestClassifier Done\n",
       "</pre>\n"
      ],
      "text/plain": [
       "RandomForestClassifier Done\n"
      ]
     },
     "metadata": {},
     "output_type": "display_data"
    }
   ],
   "source": [
    "RapG.classifier(vectorizer='tfidf')\n"
   ]
  },
  {
   "cell_type": "code",
   "execution_count": 6,
   "metadata": {},
   "outputs": [
    {
     "data": {
      "text/html": [
       "<pre style=\"white-space:pre;overflow-x:auto;line-height:normal;font-family:Menlo,'DejaVu Sans Mono',consolas,'Courier New',monospace\">┏━━━━━━━━━━━━━━━━━━━━┳━━━━━━━━━━━━━━━━━━━━━━━━┳━━━━━━━━━━━━━━━━━━━━━━━━━━━━━━━━━━━━━━━━━━━━━┓\n",
       "┃<span style=\"font-weight: bold\"> Score - Train data </span>┃<span style=\"font-weight: bold\"> Model                  </span>┃<span style=\"font-weight: bold\"> Best parameters                             </span>┃\n",
       "┡━━━━━━━━━━━━━━━━━━━━╇━━━━━━━━━━━━━━━━━━━━━━━━╇━━━━━━━━━━━━━━━━━━━━━━━━━━━━━━━━━━━━━━━━━━━━━┩\n",
       "│ 0.6709022010803838 │ GaussianNB             │ {'var_smoothing': 1e-11}                    │\n",
       "│ 0.7636217044263484 │ DecisionTreeClassifier │ {'max_features': 'auto',                    │\n",
       "│                    │                        │ 'min_samples_split': 100, 'random_state':   │\n",
       "│                    │                        │ 42}                                         │\n",
       "│ 0.7852455051197291 │ KNeighborsClassifier   │ {'n_neighbors': 15}                         │\n",
       "│ 0.9098121422236556 │ LogisticRegression     │ {'C': 100, 'max_iter': 10000, 'penalty':    │\n",
       "│                    │                        │ 'l2'}                                       │\n",
       "│ 0.9478916391195679 │ RandomForestClassifier │ {'criterion': 'entropy', 'max_features':    │\n",
       "│                    │                        │ 'sqrt', 'min_samples_split': 100,           │\n",
       "│                    │                        │ 'n_estimators': 100, 'random_state': 42}    │\n",
       "└────────────────────┴────────────────────────┴─────────────────────────────────────────────┘\n",
       "</pre>\n"
      ],
      "text/plain": [
       "┏━━━━━━━━━━━━━━━━━━━━┳━━━━━━━━━━━━━━━━━━━━━━━━┳━━━━━━━━━━━━━━━━━━━━━━━━━━━━━━━━━━━━━━━━━━━━━┓\n",
       "┃\u001b[1m \u001b[0m\u001b[1mScore - Train data\u001b[0m\u001b[1m \u001b[0m┃\u001b[1m \u001b[0m\u001b[1mModel                 \u001b[0m\u001b[1m \u001b[0m┃\u001b[1m \u001b[0m\u001b[1mBest parameters                            \u001b[0m\u001b[1m \u001b[0m┃\n",
       "┡━━━━━━━━━━━━━━━━━━━━╇━━━━━━━━━━━━━━━━━━━━━━━━╇━━━━━━━━━━━━━━━━━━━━━━━━━━━━━━━━━━━━━━━━━━━━━┩\n",
       "│ 0.6709022010803838 │ GaussianNB             │ {'var_smoothing': 1e-11}                    │\n",
       "│ 0.7636217044263484 │ DecisionTreeClassifier │ {'max_features': 'auto',                    │\n",
       "│                    │                        │ 'min_samples_split': 100, 'random_state':   │\n",
       "│                    │                        │ 42}                                         │\n",
       "│ 0.7852455051197291 │ KNeighborsClassifier   │ {'n_neighbors': 15}                         │\n",
       "│ 0.9098121422236556 │ LogisticRegression     │ {'C': 100, 'max_iter': 10000, 'penalty':    │\n",
       "│                    │                        │ 'l2'}                                       │\n",
       "│ 0.9478916391195679 │ RandomForestClassifier │ {'criterion': 'entropy', 'max_features':    │\n",
       "│                    │                        │ 'sqrt', 'min_samples_split': 100,           │\n",
       "│                    │                        │ 'n_estimators': 100, 'random_state': 42}    │\n",
       "└────────────────────┴────────────────────────┴─────────────────────────────────────────────┘\n"
      ]
     },
     "metadata": {},
     "output_type": "display_data"
    }
   ],
   "source": [
    "RapG.show_result()\n"
   ]
  },
  {
   "cell_type": "code",
   "execution_count": 7,
   "metadata": {},
   "outputs": [
    {
     "data": {
      "text/html": [
       "<pre style=\"white-space:pre;overflow-x:auto;line-height:normal;font-family:Menlo,'DejaVu Sans Mono',consolas,'Courier New',monospace\">Best encoding: tfidf\n",
       "</pre>\n"
      ],
      "text/plain": [
       "Best encoding: tfidf\n"
      ]
     },
     "metadata": {},
     "output_type": "display_data"
    },
    {
     "data": {
      "text/html": [
       "<pre style=\"white-space:pre;overflow-x:auto;line-height:normal;font-family:Menlo,'DejaVu Sans Mono',consolas,'Courier New',monospace\">Best model on train data:  <span style=\"color: #800080; text-decoration-color: #800080; font-weight: bold\">RandomForestClassifier</span><span style=\"font-weight: bold\">(</span><span style=\"color: #808000; text-decoration-color: #808000\">criterion</span>=<span style=\"color: #008000; text-decoration-color: #008000\">'entropy'</span>, <span style=\"color: #808000; text-decoration-color: #808000\">max_features</span>=<span style=\"color: #008000; text-decoration-color: #008000\">'sqrt'</span>,\n",
       "                       <span style=\"color: #808000; text-decoration-color: #808000\">min_samples_split</span>=<span style=\"color: #008080; text-decoration-color: #008080; font-weight: bold\">100</span>, <span style=\"color: #808000; text-decoration-color: #808000\">random_state</span>=<span style=\"color: #008080; text-decoration-color: #008080; font-weight: bold\">42</span><span style=\"font-weight: bold\">)</span>\n",
       "</pre>\n"
      ],
      "text/plain": [
       "Best model on train data:  \u001b[1;35mRandomForestClassifier\u001b[0m\u001b[1m(\u001b[0m\u001b[33mcriterion\u001b[0m=\u001b[32m'entropy'\u001b[0m, \u001b[33mmax_features\u001b[0m=\u001b[32m'sqrt'\u001b[0m,\n",
       "                       \u001b[33mmin_samples_split\u001b[0m=\u001b[1;36m100\u001b[0m, \u001b[33mrandom_state\u001b[0m=\u001b[1;36m42\u001b[0m\u001b[1m)\u001b[0m\n"
      ]
     },
     "metadata": {},
     "output_type": "display_data"
    },
    {
     "data": {
      "text/html": [
       "<pre style=\"white-space:pre;overflow-x:auto;line-height:normal;font-family:Menlo,'DejaVu Sans Mono',consolas,'Courier New',monospace\">Parameters: \n",
       "<span style=\"font-weight: bold\">{</span>\n",
       "    <span style=\"color: #008000; text-decoration-color: #008000\">'criterion'</span>: <span style=\"color: #008000; text-decoration-color: #008000\">'entropy'</span>,\n",
       "    <span style=\"color: #008000; text-decoration-color: #008000\">'max_features'</span>: <span style=\"color: #008000; text-decoration-color: #008000\">'sqrt'</span>,\n",
       "    <span style=\"color: #008000; text-decoration-color: #008000\">'min_samples_split'</span>: <span style=\"color: #008080; text-decoration-color: #008080; font-weight: bold\">100</span>,\n",
       "    <span style=\"color: #008000; text-decoration-color: #008000\">'n_estimators'</span>: <span style=\"color: #008080; text-decoration-color: #008080; font-weight: bold\">100</span>,\n",
       "    <span style=\"color: #008000; text-decoration-color: #008000\">'random_state'</span>: <span style=\"color: #008080; text-decoration-color: #008080; font-weight: bold\">42</span>\n",
       "<span style=\"font-weight: bold\">}</span>\n",
       "</pre>\n"
      ],
      "text/plain": [
       "Parameters: \n",
       "\u001b[1m{\u001b[0m\n",
       "    \u001b[32m'criterion'\u001b[0m: \u001b[32m'entropy'\u001b[0m,\n",
       "    \u001b[32m'max_features'\u001b[0m: \u001b[32m'sqrt'\u001b[0m,\n",
       "    \u001b[32m'min_samples_split'\u001b[0m: \u001b[1;36m100\u001b[0m,\n",
       "    \u001b[32m'n_estimators'\u001b[0m: \u001b[1;36m100\u001b[0m,\n",
       "    \u001b[32m'random_state'\u001b[0m: \u001b[1;36m42\u001b[0m\n",
       "\u001b[1m}\u001b[0m\n"
      ]
     },
     "metadata": {},
     "output_type": "display_data"
    },
    {
     "data": {
      "text/html": [
       "<pre style=\"white-space:pre;overflow-x:auto;line-height:normal;font-family:Menlo,'DejaVu Sans Mono',consolas,'Courier New',monospace\">Crossvalidation score:  <span style=\"color: #008080; text-decoration-color: #008080; font-weight: bold\">0.9478916391195679</span>\n",
       "</pre>\n"
      ],
      "text/plain": [
       "Crossvalidation score:  \u001b[1;36m0.9478916391195679\u001b[0m\n"
      ]
     },
     "metadata": {},
     "output_type": "display_data"
    },
    {
     "data": {
      "text/html": [
       "<pre style=\"white-space:pre;overflow-x:auto;line-height:normal;font-family:Menlo,'DejaVu Sans Mono',consolas,'Courier New',monospace\">Score on train data:  <span style=\"color: #008080; text-decoration-color: #008080; font-weight: bold\">0.9847522236340533</span>\n",
       "</pre>\n"
      ],
      "text/plain": [
       "Score on train data:  \u001b[1;36m0.9847522236340533\u001b[0m\n"
      ]
     },
     "metadata": {},
     "output_type": "display_data"
    },
    {
     "data": {
      "text/html": [
       "<pre style=\"white-space:pre;overflow-x:auto;line-height:normal;font-family:Menlo,'DejaVu Sans Mono',consolas,'Courier New',monospace\">Score on unseen test data:  <span style=\"color: #008080; text-decoration-color: #008080; font-weight: bold\">0.9733727810650887</span>\n",
       "</pre>\n"
      ],
      "text/plain": [
       "Score on unseen test data:  \u001b[1;36m0.9733727810650887\u001b[0m\n"
      ]
     },
     "metadata": {},
     "output_type": "display_data"
    },
    {
     "data": {
      "text/html": [
       "<pre style=\"white-space:pre;overflow-x:auto;line-height:normal;font-family:Menlo,'DejaVu Sans Mono',consolas,'Courier New',monospace\">Confusion matrix on train data: \n",
       " <span style=\"font-weight: bold\">[[</span><span style=\"color: #008080; text-decoration-color: #008080; font-weight: bold\">389</span>   <span style=\"color: #008080; text-decoration-color: #008080; font-weight: bold\">6</span><span style=\"font-weight: bold\">]</span>\n",
       " <span style=\"font-weight: bold\">[</span>  <span style=\"color: #008080; text-decoration-color: #008080; font-weight: bold\">6</span> <span style=\"color: #008080; text-decoration-color: #008080; font-weight: bold\">386</span><span style=\"font-weight: bold\">]]</span>\n",
       "</pre>\n"
      ],
      "text/plain": [
       "Confusion matrix on train data: \n",
       " \u001b[1m[\u001b[0m\u001b[1m[\u001b[0m\u001b[1;36m389\u001b[0m   \u001b[1;36m6\u001b[0m\u001b[1m]\u001b[0m\n",
       " \u001b[1m[\u001b[0m  \u001b[1;36m6\u001b[0m \u001b[1;36m386\u001b[0m\u001b[1m]\u001b[0m\u001b[1m]\u001b[0m\n"
      ]
     },
     "metadata": {},
     "output_type": "display_data"
    },
    {
     "data": {
      "text/html": [
       "<pre style=\"white-space:pre;overflow-x:auto;line-height:normal;font-family:Menlo,'DejaVu Sans Mono',consolas,'Courier New',monospace\">Confusion matrix on test data: \n",
       " <span style=\"font-weight: bold\">[[</span><span style=\"color: #008080; text-decoration-color: #008080; font-weight: bold\">133</span>   <span style=\"color: #008080; text-decoration-color: #008080; font-weight: bold\">6</span><span style=\"font-weight: bold\">]</span>\n",
       " <span style=\"font-weight: bold\">[</span>  <span style=\"color: #008080; text-decoration-color: #008080; font-weight: bold\">3</span> <span style=\"color: #008080; text-decoration-color: #008080; font-weight: bold\">196</span><span style=\"font-weight: bold\">]]</span>\n",
       "</pre>\n"
      ],
      "text/plain": [
       "Confusion matrix on test data: \n",
       " \u001b[1m[\u001b[0m\u001b[1m[\u001b[0m\u001b[1;36m133\u001b[0m   \u001b[1;36m6\u001b[0m\u001b[1m]\u001b[0m\n",
       " \u001b[1m[\u001b[0m  \u001b[1;36m3\u001b[0m \u001b[1;36m196\u001b[0m\u001b[1m]\u001b[0m\u001b[1m]\u001b[0m\n"
      ]
     },
     "metadata": {},
     "output_type": "display_data"
    }
   ],
   "source": [
    "RapG.final()\n"
   ]
  },
  {
   "cell_type": "code",
   "execution_count": 8,
   "metadata": {},
   "outputs": [
    {
     "data": {
      "text/html": [
       "<pre style=\"white-space:pre;overflow-x:auto;line-height:normal;font-family:Menlo,'DejaVu Sans Mono',consolas,'Courier New',monospace\">LogisticRegression with bow Done\n",
       "</pre>\n"
      ],
      "text/plain": [
       "LogisticRegression with bow Done\n"
      ]
     },
     "metadata": {},
     "output_type": "display_data"
    },
    {
     "data": {
      "text/html": [
       "<pre style=\"white-space:pre;overflow-x:auto;line-height:normal;font-family:Menlo,'DejaVu Sans Mono',consolas,'Courier New',monospace\">LogisticRegression with tfidf Done\n",
       "</pre>\n"
      ],
      "text/plain": [
       "LogisticRegression with tfidf Done\n"
      ]
     },
     "metadata": {},
     "output_type": "display_data"
    },
    {
     "data": {
      "text/html": [
       "<pre style=\"white-space:pre;overflow-x:auto;line-height:normal;font-family:Menlo,'DejaVu Sans Mono',consolas,'Courier New',monospace\">KNeighborsClassifier with bow Done\n",
       "</pre>\n"
      ],
      "text/plain": [
       "KNeighborsClassifier with bow Done\n"
      ]
     },
     "metadata": {},
     "output_type": "display_data"
    },
    {
     "data": {
      "text/html": [
       "<pre style=\"white-space:pre;overflow-x:auto;line-height:normal;font-family:Menlo,'DejaVu Sans Mono',consolas,'Courier New',monospace\">KNeighborsClassifier with tfidf Done\n",
       "</pre>\n"
      ],
      "text/plain": [
       "KNeighborsClassifier with tfidf Done\n"
      ]
     },
     "metadata": {},
     "output_type": "display_data"
    },
    {
     "data": {
      "text/html": [
       "<pre style=\"white-space:pre;overflow-x:auto;line-height:normal;font-family:Menlo,'DejaVu Sans Mono',consolas,'Courier New',monospace\">GaussianNB with bow Done\n",
       "</pre>\n"
      ],
      "text/plain": [
       "GaussianNB with bow Done\n"
      ]
     },
     "metadata": {},
     "output_type": "display_data"
    },
    {
     "data": {
      "text/html": [
       "<pre style=\"white-space:pre;overflow-x:auto;line-height:normal;font-family:Menlo,'DejaVu Sans Mono',consolas,'Courier New',monospace\">GaussianNB with tfidf Done\n",
       "</pre>\n"
      ],
      "text/plain": [
       "GaussianNB with tfidf Done\n"
      ]
     },
     "metadata": {},
     "output_type": "display_data"
    },
    {
     "data": {
      "text/html": [
       "<pre style=\"white-space:pre;overflow-x:auto;line-height:normal;font-family:Menlo,'DejaVu Sans Mono',consolas,'Courier New',monospace\">DecisionTreeClassifier with bow Done\n",
       "</pre>\n"
      ],
      "text/plain": [
       "DecisionTreeClassifier with bow Done\n"
      ]
     },
     "metadata": {},
     "output_type": "display_data"
    },
    {
     "data": {
      "text/html": [
       "<pre style=\"white-space:pre;overflow-x:auto;line-height:normal;font-family:Menlo,'DejaVu Sans Mono',consolas,'Courier New',monospace\">DecisionTreeClassifier with tfidf Done\n",
       "</pre>\n"
      ],
      "text/plain": [
       "DecisionTreeClassifier with tfidf Done\n"
      ]
     },
     "metadata": {},
     "output_type": "display_data"
    },
    {
     "data": {
      "text/html": [
       "<pre style=\"white-space:pre;overflow-x:auto;line-height:normal;font-family:Menlo,'DejaVu Sans Mono',consolas,'Courier New',monospace\">RandomForestClassifier with bow Done\n",
       "</pre>\n"
      ],
      "text/plain": [
       "RandomForestClassifier with bow Done\n"
      ]
     },
     "metadata": {},
     "output_type": "display_data"
    },
    {
     "data": {
      "text/html": [
       "<pre style=\"white-space:pre;overflow-x:auto;line-height:normal;font-family:Menlo,'DejaVu Sans Mono',consolas,'Courier New',monospace\">RandomForestClassifier with tfidf Done\n",
       "</pre>\n"
      ],
      "text/plain": [
       "RandomForestClassifier with tfidf Done\n"
      ]
     },
     "metadata": {},
     "output_type": "display_data"
    }
   ],
   "source": [
    "RapG.classifier(vectorizer='both')\n"
   ]
  },
  {
   "cell_type": "code",
   "execution_count": 9,
   "metadata": {},
   "outputs": [
    {
     "data": {
      "text/html": [
       "<pre style=\"white-space:pre;overflow-x:auto;line-height:normal;font-family:Menlo,'DejaVu Sans Mono',consolas,'Courier New',monospace\">┏━━━━━━━━━━━━━━━━━━━━┳━━━━━━━━━━━━━━━━━━━━━━━━┳━━━━━━━━━━━━━━━━━━━━━━━━━━━━━━━━━━━━━━━━━━━━━┓\n",
       "┃<span style=\"font-weight: bold\"> Score - Train data </span>┃<span style=\"font-weight: bold\"> Model                  </span>┃<span style=\"font-weight: bold\"> Best parameters                             </span>┃\n",
       "┡━━━━━━━━━━━━━━━━━━━━╇━━━━━━━━━━━━━━━━━━━━━━━━╇━━━━━━━━━━━━━━━━━━━━━━━━━━━━━━━━━━━━━━━━━━━━━┩\n",
       "│ 0.5387245021365799 │ KNeighborsClassifier   │ {'n_neighbors': 3}                          │\n",
       "│ 0.6772555027009595 │ GaussianNB             │ {'var_smoothing': 1e-11}                    │\n",
       "│ 0.7750382971861647 │ DecisionTreeClassifier │ {'max_features': 'auto',                    │\n",
       "│                    │                        │ 'min_samples_split': 100, 'random_state':   │\n",
       "│                    │                        │ 42}                                         │\n",
       "│ 0.9326292026122711 │ LogisticRegression     │ {'C': 0.1, 'max_iter': 10000, 'penalty':    │\n",
       "│                    │                        │ 'l2'}                                       │\n",
       "│ 0.958042409094574  │ RandomForestClassifier │ {'criterion': 'gini', 'max_features':       │\n",
       "│                    │                        │ 'sqrt', 'min_samples_split': 100,           │\n",
       "│                    │                        │ 'n_estimators': 100, 'random_state': 42}    │\n",
       "└────────────────────┴────────────────────────┴─────────────────────────────────────────────┘\n",
       "</pre>\n"
      ],
      "text/plain": [
       "┏━━━━━━━━━━━━━━━━━━━━┳━━━━━━━━━━━━━━━━━━━━━━━━┳━━━━━━━━━━━━━━━━━━━━━━━━━━━━━━━━━━━━━━━━━━━━━┓\n",
       "┃\u001b[1m \u001b[0m\u001b[1mScore - Train data\u001b[0m\u001b[1m \u001b[0m┃\u001b[1m \u001b[0m\u001b[1mModel                 \u001b[0m\u001b[1m \u001b[0m┃\u001b[1m \u001b[0m\u001b[1mBest parameters                            \u001b[0m\u001b[1m \u001b[0m┃\n",
       "┡━━━━━━━━━━━━━━━━━━━━╇━━━━━━━━━━━━━━━━━━━━━━━━╇━━━━━━━━━━━━━━━━━━━━━━━━━━━━━━━━━━━━━━━━━━━━━┩\n",
       "│ 0.5387245021365799 │ KNeighborsClassifier   │ {'n_neighbors': 3}                          │\n",
       "│ 0.6772555027009595 │ GaussianNB             │ {'var_smoothing': 1e-11}                    │\n",
       "│ 0.7750382971861647 │ DecisionTreeClassifier │ {'max_features': 'auto',                    │\n",
       "│                    │                        │ 'min_samples_split': 100, 'random_state':   │\n",
       "│                    │                        │ 42}                                         │\n",
       "│ 0.9326292026122711 │ LogisticRegression     │ {'C': 0.1, 'max_iter': 10000, 'penalty':    │\n",
       "│                    │                        │ 'l2'}                                       │\n",
       "│ 0.958042409094574  │ RandomForestClassifier │ {'criterion': 'gini', 'max_features':       │\n",
       "│                    │                        │ 'sqrt', 'min_samples_split': 100,           │\n",
       "│                    │                        │ 'n_estimators': 100, 'random_state': 42}    │\n",
       "└────────────────────┴────────────────────────┴─────────────────────────────────────────────┘\n"
      ]
     },
     "metadata": {},
     "output_type": "display_data"
    },
    {
     "data": {
      "text/html": [
       "<pre style=\"white-space:pre;overflow-x:auto;line-height:normal;font-family:Menlo,'DejaVu Sans Mono',consolas,'Courier New',monospace\">┏━━━━━━━━━━━━━━━━━━━━┳━━━━━━━━━━━━━━━━━━━━━━━━┳━━━━━━━━━━━━━━━━━━━━━━━━━━━━━━━━━━━━━━━━━━━━━┓\n",
       "┃<span style=\"font-weight: bold\"> Score - Train data </span>┃<span style=\"font-weight: bold\"> Model                  </span>┃<span style=\"font-weight: bold\"> Best parameters                             </span>┃\n",
       "┡━━━━━━━━━━━━━━━━━━━━╇━━━━━━━━━━━━━━━━━━━━━━━━╇━━━━━━━━━━━━━━━━━━━━━━━━━━━━━━━━━━━━━━━━━━━━━┩\n",
       "│ 0.6709022010803838 │ GaussianNB             │ {'var_smoothing': 1e-11}                    │\n",
       "│ 0.7636217044263484 │ DecisionTreeClassifier │ {'max_features': 'auto',                    │\n",
       "│                    │                        │ 'min_samples_split': 100, 'random_state':   │\n",
       "│                    │                        │ 42}                                         │\n",
       "│ 0.7852455051197291 │ KNeighborsClassifier   │ {'n_neighbors': 15}                         │\n",
       "│ 0.9098121422236556 │ LogisticRegression     │ {'C': 100, 'max_iter': 10000, 'penalty':    │\n",
       "│                    │                        │ 'l2'}                                       │\n",
       "│ 0.9478916391195679 │ RandomForestClassifier │ {'criterion': 'entropy', 'max_features':    │\n",
       "│                    │                        │ 'sqrt', 'min_samples_split': 100,           │\n",
       "│                    │                        │ 'n_estimators': 100, 'random_state': 42}    │\n",
       "└────────────────────┴────────────────────────┴─────────────────────────────────────────────┘\n",
       "</pre>\n"
      ],
      "text/plain": [
       "┏━━━━━━━━━━━━━━━━━━━━┳━━━━━━━━━━━━━━━━━━━━━━━━┳━━━━━━━━━━━━━━━━━━━━━━━━━━━━━━━━━━━━━━━━━━━━━┓\n",
       "┃\u001b[1m \u001b[0m\u001b[1mScore - Train data\u001b[0m\u001b[1m \u001b[0m┃\u001b[1m \u001b[0m\u001b[1mModel                 \u001b[0m\u001b[1m \u001b[0m┃\u001b[1m \u001b[0m\u001b[1mBest parameters                            \u001b[0m\u001b[1m \u001b[0m┃\n",
       "┡━━━━━━━━━━━━━━━━━━━━╇━━━━━━━━━━━━━━━━━━━━━━━━╇━━━━━━━━━━━━━━━━━━━━━━━━━━━━━━━━━━━━━━━━━━━━━┩\n",
       "│ 0.6709022010803838 │ GaussianNB             │ {'var_smoothing': 1e-11}                    │\n",
       "│ 0.7636217044263484 │ DecisionTreeClassifier │ {'max_features': 'auto',                    │\n",
       "│                    │                        │ 'min_samples_split': 100, 'random_state':   │\n",
       "│                    │                        │ 42}                                         │\n",
       "│ 0.7852455051197291 │ KNeighborsClassifier   │ {'n_neighbors': 15}                         │\n",
       "│ 0.9098121422236556 │ LogisticRegression     │ {'C': 100, 'max_iter': 10000, 'penalty':    │\n",
       "│                    │                        │ 'l2'}                                       │\n",
       "│ 0.9478916391195679 │ RandomForestClassifier │ {'criterion': 'entropy', 'max_features':    │\n",
       "│                    │                        │ 'sqrt', 'min_samples_split': 100,           │\n",
       "│                    │                        │ 'n_estimators': 100, 'random_state': 42}    │\n",
       "└────────────────────┴────────────────────────┴─────────────────────────────────────────────┘\n"
      ]
     },
     "metadata": {},
     "output_type": "display_data"
    }
   ],
   "source": [
    "RapG.show_result()\n"
   ]
  },
  {
   "cell_type": "code",
   "execution_count": 10,
   "metadata": {},
   "outputs": [
    {
     "data": {
      "text/html": [
       "<pre style=\"white-space:pre;overflow-x:auto;line-height:normal;font-family:Menlo,'DejaVu Sans Mono',consolas,'Courier New',monospace\">Best encoding: bow\n",
       "</pre>\n"
      ],
      "text/plain": [
       "Best encoding: bow\n"
      ]
     },
     "metadata": {},
     "output_type": "display_data"
    },
    {
     "data": {
      "text/html": [
       "<pre style=\"white-space:pre;overflow-x:auto;line-height:normal;font-family:Menlo,'DejaVu Sans Mono',consolas,'Courier New',monospace\">Best model on train data:  <span style=\"color: #800080; text-decoration-color: #800080; font-weight: bold\">RandomForestClassifier</span><span style=\"font-weight: bold\">(</span><span style=\"color: #808000; text-decoration-color: #808000\">max_features</span>=<span style=\"color: #008000; text-decoration-color: #008000\">'sqrt'</span>, <span style=\"color: #808000; text-decoration-color: #808000\">min_samples_split</span>=<span style=\"color: #008080; text-decoration-color: #008080; font-weight: bold\">100</span>,\n",
       "                       <span style=\"color: #808000; text-decoration-color: #808000\">random_state</span>=<span style=\"color: #008080; text-decoration-color: #008080; font-weight: bold\">42</span><span style=\"font-weight: bold\">)</span>\n",
       "</pre>\n"
      ],
      "text/plain": [
       "Best model on train data:  \u001b[1;35mRandomForestClassifier\u001b[0m\u001b[1m(\u001b[0m\u001b[33mmax_features\u001b[0m=\u001b[32m'sqrt'\u001b[0m, \u001b[33mmin_samples_split\u001b[0m=\u001b[1;36m100\u001b[0m,\n",
       "                       \u001b[33mrandom_state\u001b[0m=\u001b[1;36m42\u001b[0m\u001b[1m)\u001b[0m\n"
      ]
     },
     "metadata": {},
     "output_type": "display_data"
    },
    {
     "data": {
      "text/html": [
       "<pre style=\"white-space:pre;overflow-x:auto;line-height:normal;font-family:Menlo,'DejaVu Sans Mono',consolas,'Courier New',monospace\">Parameters: \n",
       "<span style=\"font-weight: bold\">{</span>\n",
       "    <span style=\"color: #008000; text-decoration-color: #008000\">'criterion'</span>: <span style=\"color: #008000; text-decoration-color: #008000\">'gini'</span>,\n",
       "    <span style=\"color: #008000; text-decoration-color: #008000\">'max_features'</span>: <span style=\"color: #008000; text-decoration-color: #008000\">'sqrt'</span>,\n",
       "    <span style=\"color: #008000; text-decoration-color: #008000\">'min_samples_split'</span>: <span style=\"color: #008080; text-decoration-color: #008080; font-weight: bold\">100</span>,\n",
       "    <span style=\"color: #008000; text-decoration-color: #008000\">'n_estimators'</span>: <span style=\"color: #008080; text-decoration-color: #008080; font-weight: bold\">100</span>,\n",
       "    <span style=\"color: #008000; text-decoration-color: #008000\">'random_state'</span>: <span style=\"color: #008080; text-decoration-color: #008080; font-weight: bold\">42</span>\n",
       "<span style=\"font-weight: bold\">}</span>\n",
       "</pre>\n"
      ],
      "text/plain": [
       "Parameters: \n",
       "\u001b[1m{\u001b[0m\n",
       "    \u001b[32m'criterion'\u001b[0m: \u001b[32m'gini'\u001b[0m,\n",
       "    \u001b[32m'max_features'\u001b[0m: \u001b[32m'sqrt'\u001b[0m,\n",
       "    \u001b[32m'min_samples_split'\u001b[0m: \u001b[1;36m100\u001b[0m,\n",
       "    \u001b[32m'n_estimators'\u001b[0m: \u001b[1;36m100\u001b[0m,\n",
       "    \u001b[32m'random_state'\u001b[0m: \u001b[1;36m42\u001b[0m\n",
       "\u001b[1m}\u001b[0m\n"
      ]
     },
     "metadata": {},
     "output_type": "display_data"
    },
    {
     "data": {
      "text/html": [
       "<pre style=\"white-space:pre;overflow-x:auto;line-height:normal;font-family:Menlo,'DejaVu Sans Mono',consolas,'Courier New',monospace\">Crossvalidation score:  <span style=\"color: #008080; text-decoration-color: #008080; font-weight: bold\">0.958042409094574</span>\n",
       "</pre>\n"
      ],
      "text/plain": [
       "Crossvalidation score:  \u001b[1;36m0.958042409094574\u001b[0m\n"
      ]
     },
     "metadata": {},
     "output_type": "display_data"
    },
    {
     "data": {
      "text/html": [
       "<pre style=\"white-space:pre;overflow-x:auto;line-height:normal;font-family:Menlo,'DejaVu Sans Mono',consolas,'Courier New',monospace\">Score on train data:  <span style=\"color: #008080; text-decoration-color: #008080; font-weight: bold\">0.9872935196950444</span>\n",
       "</pre>\n"
      ],
      "text/plain": [
       "Score on train data:  \u001b[1;36m0.9872935196950444\u001b[0m\n"
      ]
     },
     "metadata": {},
     "output_type": "display_data"
    },
    {
     "data": {
      "text/html": [
       "<pre style=\"white-space:pre;overflow-x:auto;line-height:normal;font-family:Menlo,'DejaVu Sans Mono',consolas,'Courier New',monospace\">Score on unseen test data:  <span style=\"color: #008080; text-decoration-color: #008080; font-weight: bold\">0.9792899408284024</span>\n",
       "</pre>\n"
      ],
      "text/plain": [
       "Score on unseen test data:  \u001b[1;36m0.9792899408284024\u001b[0m\n"
      ]
     },
     "metadata": {},
     "output_type": "display_data"
    },
    {
     "data": {
      "text/html": [
       "<pre style=\"white-space:pre;overflow-x:auto;line-height:normal;font-family:Menlo,'DejaVu Sans Mono',consolas,'Courier New',monospace\">Confusion matrix on train data: \n",
       " <span style=\"font-weight: bold\">[[</span><span style=\"color: #008080; text-decoration-color: #008080; font-weight: bold\">391</span>   <span style=\"color: #008080; text-decoration-color: #008080; font-weight: bold\">4</span><span style=\"font-weight: bold\">]</span>\n",
       " <span style=\"font-weight: bold\">[</span>  <span style=\"color: #008080; text-decoration-color: #008080; font-weight: bold\">6</span> <span style=\"color: #008080; text-decoration-color: #008080; font-weight: bold\">386</span><span style=\"font-weight: bold\">]]</span>\n",
       "</pre>\n"
      ],
      "text/plain": [
       "Confusion matrix on train data: \n",
       " \u001b[1m[\u001b[0m\u001b[1m[\u001b[0m\u001b[1;36m391\u001b[0m   \u001b[1;36m4\u001b[0m\u001b[1m]\u001b[0m\n",
       " \u001b[1m[\u001b[0m  \u001b[1;36m6\u001b[0m \u001b[1;36m386\u001b[0m\u001b[1m]\u001b[0m\u001b[1m]\u001b[0m\n"
      ]
     },
     "metadata": {},
     "output_type": "display_data"
    },
    {
     "data": {
      "text/html": [
       "<pre style=\"white-space:pre;overflow-x:auto;line-height:normal;font-family:Menlo,'DejaVu Sans Mono',consolas,'Courier New',monospace\">Confusion matrix on test data: \n",
       " <span style=\"font-weight: bold\">[[</span><span style=\"color: #008080; text-decoration-color: #008080; font-weight: bold\">135</span>   <span style=\"color: #008080; text-decoration-color: #008080; font-weight: bold\">4</span><span style=\"font-weight: bold\">]</span>\n",
       " <span style=\"font-weight: bold\">[</span>  <span style=\"color: #008080; text-decoration-color: #008080; font-weight: bold\">3</span> <span style=\"color: #008080; text-decoration-color: #008080; font-weight: bold\">196</span><span style=\"font-weight: bold\">]]</span>\n",
       "</pre>\n"
      ],
      "text/plain": [
       "Confusion matrix on test data: \n",
       " \u001b[1m[\u001b[0m\u001b[1m[\u001b[0m\u001b[1;36m135\u001b[0m   \u001b[1;36m4\u001b[0m\u001b[1m]\u001b[0m\n",
       " \u001b[1m[\u001b[0m  \u001b[1;36m3\u001b[0m \u001b[1;36m196\u001b[0m\u001b[1m]\u001b[0m\u001b[1m]\u001b[0m\n"
      ]
     },
     "metadata": {},
     "output_type": "display_data"
    }
   ],
   "source": [
    "RapG.final()\n"
   ]
  }
 ],
 "metadata": {
  "interpreter": {
   "hash": "63fd5069d213b44bf678585dea6b12cceca9941eaf7f819626cde1f2670de90d"
  },
  "kernelspec": {
   "display_name": "Python 3.9.7 64-bit",
   "language": "python",
   "name": "python3"
  },
  "language_info": {
   "codemirror_mode": {
    "name": "ipython",
    "version": 3
   },
   "file_extension": ".py",
   "mimetype": "text/x-python",
   "name": "python",
   "nbconvert_exporter": "python",
   "pygments_lexer": "ipython3",
   "version": "3.9.7"
  },
  "orig_nbformat": 4
 },
 "nbformat": 4,
 "nbformat_minor": 2
}
